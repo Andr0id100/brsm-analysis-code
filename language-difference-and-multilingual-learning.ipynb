{
 "cells": [
  {
   "cell_type": "code",
   "execution_count": 2,
   "id": "360f5cd2-ded6-493e-aeab-0944e2dea74e",
   "metadata": {},
   "outputs": [],
   "source": [
    "import pandas as pd\n",
    "from tqdm.notebook import tqdm\n",
    "import numpy as np"
   ]
  },
  {
   "cell_type": "code",
   "execution_count": 3,
   "id": "ab8dc179-7acc-4a93-b5ff-9010f7343ace",
   "metadata": {},
   "outputs": [],
   "source": [
    "from scipy import stats\n",
    "import scikit_posthocs as sp"
   ]
  },
  {
   "cell_type": "code",
   "execution_count": 4,
   "id": "1df1ebd8-cafc-4304-9cf0-411844f752b1",
   "metadata": {},
   "outputs": [],
   "source": [
    "import matplotlib.pyplot as plt\n",
    "import seaborn as sns"
   ]
  },
  {
   "cell_type": "code",
   "execution_count": 5,
   "id": "2363c441-46ab-4c55-879f-0b7691365f34",
   "metadata": {},
   "outputs": [
    {
     "name": "stdout",
     "output_type": "stream",
     "text": [
      "12854226\n"
     ]
    },
    {
     "data": {
      "text/html": [
       "<div>\n",
       "<style scoped>\n",
       "    .dataframe tbody tr th:only-of-type {\n",
       "        vertical-align: middle;\n",
       "    }\n",
       "\n",
       "    .dataframe tbody tr th {\n",
       "        vertical-align: top;\n",
       "    }\n",
       "\n",
       "    .dataframe thead th {\n",
       "        text-align: right;\n",
       "    }\n",
       "</style>\n",
       "<table border=\"1\" class=\"dataframe\">\n",
       "  <thead>\n",
       "    <tr style=\"text-align: right;\">\n",
       "      <th></th>\n",
       "      <th>p_recall</th>\n",
       "      <th>timestamp</th>\n",
       "      <th>delta</th>\n",
       "      <th>user_id</th>\n",
       "      <th>learning_language</th>\n",
       "      <th>ui_language</th>\n",
       "      <th>lexeme_id</th>\n",
       "      <th>lexeme_string</th>\n",
       "      <th>history_seen</th>\n",
       "      <th>history_correct</th>\n",
       "      <th>session_seen</th>\n",
       "      <th>session_correct</th>\n",
       "    </tr>\n",
       "  </thead>\n",
       "  <tbody>\n",
       "    <tr>\n",
       "      <th>0</th>\n",
       "      <td>1.0</td>\n",
       "      <td>1362076081</td>\n",
       "      <td>27649635</td>\n",
       "      <td>u:FO</td>\n",
       "      <td>de</td>\n",
       "      <td>en</td>\n",
       "      <td>76390c1350a8dac31186187e2fe1e178</td>\n",
       "      <td>lernt/lernen&lt;vblex&gt;&lt;pri&gt;&lt;p3&gt;&lt;sg&gt;</td>\n",
       "      <td>6</td>\n",
       "      <td>4</td>\n",
       "      <td>2</td>\n",
       "      <td>2</td>\n",
       "    </tr>\n",
       "    <tr>\n",
       "      <th>1</th>\n",
       "      <td>0.5</td>\n",
       "      <td>1362076081</td>\n",
       "      <td>27649635</td>\n",
       "      <td>u:FO</td>\n",
       "      <td>de</td>\n",
       "      <td>en</td>\n",
       "      <td>7dfd7086f3671685e2cf1c1da72796d7</td>\n",
       "      <td>die/die&lt;det&gt;&lt;def&gt;&lt;f&gt;&lt;sg&gt;&lt;nom&gt;</td>\n",
       "      <td>4</td>\n",
       "      <td>4</td>\n",
       "      <td>2</td>\n",
       "      <td>1</td>\n",
       "    </tr>\n",
       "    <tr>\n",
       "      <th>2</th>\n",
       "      <td>1.0</td>\n",
       "      <td>1362076081</td>\n",
       "      <td>27649635</td>\n",
       "      <td>u:FO</td>\n",
       "      <td>de</td>\n",
       "      <td>en</td>\n",
       "      <td>35a54c25a2cda8127343f6a82e6f6b7d</td>\n",
       "      <td>mann/mann&lt;n&gt;&lt;m&gt;&lt;sg&gt;&lt;nom&gt;</td>\n",
       "      <td>5</td>\n",
       "      <td>4</td>\n",
       "      <td>1</td>\n",
       "      <td>1</td>\n",
       "    </tr>\n",
       "    <tr>\n",
       "      <th>3</th>\n",
       "      <td>0.5</td>\n",
       "      <td>1362076081</td>\n",
       "      <td>27649635</td>\n",
       "      <td>u:FO</td>\n",
       "      <td>de</td>\n",
       "      <td>en</td>\n",
       "      <td>0cf63ffe3dda158bc3dbd55682b355ae</td>\n",
       "      <td>frau/frau&lt;n&gt;&lt;f&gt;&lt;sg&gt;&lt;nom&gt;</td>\n",
       "      <td>6</td>\n",
       "      <td>5</td>\n",
       "      <td>2</td>\n",
       "      <td>1</td>\n",
       "    </tr>\n",
       "    <tr>\n",
       "      <th>4</th>\n",
       "      <td>1.0</td>\n",
       "      <td>1362076081</td>\n",
       "      <td>27649635</td>\n",
       "      <td>u:FO</td>\n",
       "      <td>de</td>\n",
       "      <td>en</td>\n",
       "      <td>84920990d78044db53c1b012f5bf9ab5</td>\n",
       "      <td>das/das&lt;det&gt;&lt;def&gt;&lt;nt&gt;&lt;sg&gt;&lt;nom&gt;</td>\n",
       "      <td>4</td>\n",
       "      <td>4</td>\n",
       "      <td>1</td>\n",
       "      <td>1</td>\n",
       "    </tr>\n",
       "  </tbody>\n",
       "</table>\n",
       "</div>"
      ],
      "text/plain": [
       "   p_recall   timestamp     delta user_id learning_language ui_language  \\\n",
       "0       1.0  1362076081  27649635    u:FO                de          en   \n",
       "1       0.5  1362076081  27649635    u:FO                de          en   \n",
       "2       1.0  1362076081  27649635    u:FO                de          en   \n",
       "3       0.5  1362076081  27649635    u:FO                de          en   \n",
       "4       1.0  1362076081  27649635    u:FO                de          en   \n",
       "\n",
       "                          lexeme_id                     lexeme_string  \\\n",
       "0  76390c1350a8dac31186187e2fe1e178  lernt/lernen<vblex><pri><p3><sg>   \n",
       "1  7dfd7086f3671685e2cf1c1da72796d7     die/die<det><def><f><sg><nom>   \n",
       "2  35a54c25a2cda8127343f6a82e6f6b7d          mann/mann<n><m><sg><nom>   \n",
       "3  0cf63ffe3dda158bc3dbd55682b355ae          frau/frau<n><f><sg><nom>   \n",
       "4  84920990d78044db53c1b012f5bf9ab5    das/das<det><def><nt><sg><nom>   \n",
       "\n",
       "   history_seen  history_correct  session_seen  session_correct  \n",
       "0             6                4             2                2  \n",
       "1             4                4             2                1  \n",
       "2             5                4             1                1  \n",
       "3             6                5             2                1  \n",
       "4             4                4             1                1  "
      ]
     },
     "execution_count": 5,
     "metadata": {},
     "output_type": "execute_result"
    }
   ],
   "source": [
    "df = pd.read_csv(\"settles.acl16.learning_traces.13m.csv\")\n",
    "print(len(df))\n",
    "df.head()"
   ]
  },
  {
   "cell_type": "code",
   "execution_count": 6,
   "id": "88819dff-ef15-4dc9-9fb2-982c9173469e",
   "metadata": {},
   "outputs": [
    {
     "data": {
      "text/plain": [
       "learning_language\n",
       "de    1452597\n",
       "en    5014791\n",
       "es    3407689\n",
       "fr    1873734\n",
       "it     793935\n",
       "pt     311480\n",
       "dtype: int64"
      ]
     },
     "execution_count": 6,
     "metadata": {},
     "output_type": "execute_result"
    }
   ],
   "source": [
    "df.groupby(\"learning_language\").size()"
   ]
  },
  {
   "cell_type": "code",
   "execution_count": 7,
   "id": "fc7405cf-0060-47b9-866b-df630ab57334",
   "metadata": {},
   "outputs": [
    {
     "data": {
      "text/plain": [
       "ui_language  learning_language\n",
       "en           de                   1452597\n",
       "             es                   3407689\n",
       "             fr                   1873734\n",
       "             it                    793935\n",
       "             pt                    311480\n",
       "es           en                   3641179\n",
       "it           en                    424152\n",
       "pt           en                    949460\n",
       "dtype: int64"
      ]
     },
     "execution_count": 7,
     "metadata": {},
     "output_type": "execute_result"
    }
   ],
   "source": [
    "df.groupby([\"ui_language\", \"learning_language\"]).size()"
   ]
  },
  {
   "cell_type": "markdown",
   "id": "a423fe64-a004-4ed2-85d8-b2d6c68186aa",
   "metadata": {},
   "source": [
    "# Q1: Difference between pairs of ui_language and learning_language "
   ]
  },
  {
   "cell_type": "code",
   "execution_count": 8,
   "id": "25c0b3a6-5bcf-44ab-97de-637ffe2a2e8e",
   "metadata": {},
   "outputs": [],
   "source": [
    "pair_grouped = list(df.groupby([\"ui_language\", \"learning_language\"]))"
   ]
  },
  {
   "cell_type": "code",
   "execution_count": 9,
   "id": "f6c3508a-aff7-4612-b324-880638389d48",
   "metadata": {},
   "outputs": [
    {
     "data": {
      "application/vnd.jupyter.widget-view+json": {
       "model_id": "86b29df7e3a34e389d5335bf130d7306",
       "version_major": 2,
       "version_minor": 0
      },
      "text/plain": [
       "  0%|          | 0/8 [00:00<?, ?it/s]"
      ]
     },
     "metadata": {},
     "output_type": "display_data"
    },
    {
     "data": {
      "application/vnd.jupyter.widget-view+json": {
       "model_id": "f6798ff59d9d4bf3ae60846bccaf269c",
       "version_major": 2,
       "version_minor": 0
      },
      "text/plain": [
       "  0%|          | 0/14383 [00:00<?, ?it/s]"
      ]
     },
     "metadata": {},
     "output_type": "display_data"
    },
    {
     "data": {
      "application/vnd.jupyter.widget-view+json": {
       "model_id": "58e6c5306cca4b8582c8a395a6664262",
       "version_major": 2,
       "version_minor": 0
      },
      "text/plain": [
       "  0%|          | 0/31155 [00:00<?, ?it/s]"
      ]
     },
     "metadata": {},
     "output_type": "display_data"
    },
    {
     "data": {
      "application/vnd.jupyter.widget-view+json": {
       "model_id": "757c0527508d4fac8fbce5e42cb73d56",
       "version_major": 2,
       "version_minor": 0
      },
      "text/plain": [
       "  0%|          | 0/19947 [00:00<?, ?it/s]"
      ]
     },
     "metadata": {},
     "output_type": "display_data"
    },
    {
     "data": {
      "application/vnd.jupyter.widget-view+json": {
       "model_id": "50d3925c592e4b2f97cd8c845139edb3",
       "version_major": 2,
       "version_minor": 0
      },
      "text/plain": [
       "  0%|          | 0/6498 [00:00<?, ?it/s]"
      ]
     },
     "metadata": {},
     "output_type": "display_data"
    },
    {
     "data": {
      "application/vnd.jupyter.widget-view+json": {
       "model_id": "5877dd171498460389e00568408c0870",
       "version_major": 2,
       "version_minor": 0
      },
      "text/plain": [
       "  0%|          | 0/2709 [00:00<?, ?it/s]"
      ]
     },
     "metadata": {},
     "output_type": "display_data"
    },
    {
     "data": {
      "application/vnd.jupyter.widget-view+json": {
       "model_id": "b2cdb83ed4e347a9b743148993d4f1ab",
       "version_major": 2,
       "version_minor": 0
      },
      "text/plain": [
       "  0%|          | 0/31735 [00:00<?, ?it/s]"
      ]
     },
     "metadata": {},
     "output_type": "display_data"
    },
    {
     "data": {
      "application/vnd.jupyter.widget-view+json": {
       "model_id": "54bea1ca7ef44218a32fe446c1ee7c62",
       "version_major": 2,
       "version_minor": 0
      },
      "text/plain": [
       "  0%|          | 0/3436 [00:00<?, ?it/s]"
      ]
     },
     "metadata": {},
     "output_type": "display_data"
    },
    {
     "data": {
      "application/vnd.jupyter.widget-view+json": {
       "model_id": "5dc13a09609c45c3bfe4322157043671",
       "version_major": 2,
       "version_minor": 0
      },
      "text/plain": [
       "  0%|          | 0/8637 [00:00<?, ?it/s]"
      ]
     },
     "metadata": {},
     "output_type": "display_data"
    }
   ],
   "source": [
    "data = {}\n",
    "\n",
    "for pair in tqdm(pair_grouped):\n",
    "    pair_data = []\n",
    "    relevant_rows = df[(df.ui_language == pair[0][0]) &( df.learning_language == pair[0][1])]\n",
    "    user_grouped = list(relevant_rows.groupby(\"user_id\"))\n",
    "    for user in tqdm(user_grouped, leave=True):\n",
    "        lexeme_grouped = user[1].groupby(\"lexeme_id\")\n",
    "        \n",
    "        user_performance = []\n",
    "        for lexeme in lexeme_grouped:\n",
    "            last_entry = lexeme[1].iloc[-1]\n",
    "            user_performance.append(last_entry.history_correct/last_entry.history_seen)\n",
    "        user_performance_aggregate = np.mean(user_performance) # Replace with mean?\n",
    "        pair_data.append(user_performance_aggregate)\n",
    "    \n",
    "    data[pair[0]] = pair_data"
   ]
  },
  {
   "cell_type": "code",
   "execution_count": 10,
   "id": "f3cd3cb0-29c2-4a88-875d-c12ae8dc1125",
   "metadata": {},
   "outputs": [
    {
     "data": {
      "text/plain": [
       "[('en', 'de'),\n",
       " ('en', 'es'),\n",
       " ('en', 'fr'),\n",
       " ('en', 'it'),\n",
       " ('en', 'pt'),\n",
       " ('es', 'en'),\n",
       " ('it', 'en'),\n",
       " ('pt', 'en')]"
      ]
     },
     "execution_count": 10,
     "metadata": {},
     "output_type": "execute_result"
    }
   ],
   "source": [
    "[x for x in data]"
   ]
  },
  {
   "cell_type": "code",
   "execution_count": 11,
   "id": "2f085ff5-b75e-419e-b13d-efa29457d871",
   "metadata": {},
   "outputs": [
    {
     "data": {
      "text/plain": [
       "[14383, 31155, 19947, 6498, 2709, 31735, 3436, 8637]"
      ]
     },
     "execution_count": 11,
     "metadata": {},
     "output_type": "execute_result"
    }
   ],
   "source": [
    "[len(data[x]) for x in data]"
   ]
  },
  {
   "cell_type": "code",
   "execution_count": 12,
   "id": "048825b4-c557-420e-a1db-2e887ba1da12",
   "metadata": {},
   "outputs": [],
   "source": [
    "pairs = sorted(data.keys(), key=lambda x: len(data[x]))"
   ]
  },
  {
   "cell_type": "code",
   "execution_count": 13,
   "id": "661b4095-ec5c-4c3f-a323-74fdbb18b1ac",
   "metadata": {},
   "outputs": [
    {
     "data": {
      "text/plain": [
       "Text(0, 0.5, '(UI-Language, Learning-Language)')"
      ]
     },
     "execution_count": 13,
     "metadata": {},
     "output_type": "execute_result"
    },
    {
     "data": {
      "image/png": "[encoded data removed]",
      "text/plain": [
       "<Figure size 432x288 with 1 Axes>"
      ]
     },
     "metadata": {
      "needs_background": "light"
     },
     "output_type": "display_data"
    }
   ],
   "source": [
    "fig, ax = plt.subplots(1, 1)\n",
    "ax.barh([str(x) for x in pairs], [len(data[x]) for x in pairs])\n",
    "\n",
    "ax.set_xlabel(\"User Count\")\n",
    "ax.set_ylabel(\"(UI-Language, Learning-Language)\")"
   ]
  },
  {
   "cell_type": "code",
   "execution_count": 14,
   "id": "3728ea3a-d6f1-480f-8036-06d716bcd7c9",
   "metadata": {},
   "outputs": [
    {
     "data": {
      "text/plain": [
       "LeveneResult(statistic=99.55262401523076, pvalue=8.926990488194741e-146)"
      ]
     },
     "execution_count": 14,
     "metadata": {},
     "output_type": "execute_result"
    }
   ],
   "source": [
    "stats.levene(*[data[x] for x in data])"
   ]
  },
  {
   "cell_type": "code",
   "execution_count": 15,
   "id": "a5907925-abda-44cf-863c-6aad8eedda1f",
   "metadata": {},
   "outputs": [
    {
     "data": {
      "text/plain": [
       "KruskalResult(statistic=978.81909269643, pvalue=4.538988672550323e-207)"
      ]
     },
     "execution_count": 15,
     "metadata": {},
     "output_type": "execute_result"
    }
   ],
   "source": [
    "stats.kruskal(*[data[x] for x in data])"
   ]
  },
  {
   "cell_type": "code",
   "execution_count": 16,
   "id": "b8c8e701-ea16-43bb-9667-4a382519c09c",
   "metadata": {},
   "outputs": [
    {
     "data": {
      "text/html": [
       "<div>\n",
       "<style scoped>\n",
       "    .dataframe tbody tr th:only-of-type {\n",
       "        vertical-align: middle;\n",
       "    }\n",
       "\n",
       "    .dataframe tbody tr th {\n",
       "        vertical-align: top;\n",
       "    }\n",
       "\n",
       "    .dataframe thead th {\n",
       "        text-align: right;\n",
       "    }\n",
       "</style>\n",
       "<table border=\"1\" class=\"dataframe\">\n",
       "  <thead>\n",
       "    <tr style=\"text-align: right;\">\n",
       "      <th></th>\n",
       "      <th>1</th>\n",
       "      <th>2</th>\n",
       "      <th>3</th>\n",
       "      <th>4</th>\n",
       "      <th>5</th>\n",
       "      <th>6</th>\n",
       "      <th>7</th>\n",
       "      <th>8</th>\n",
       "    </tr>\n",
       "  </thead>\n",
       "  <tbody>\n",
       "    <tr>\n",
       "      <th>1</th>\n",
       "      <td>1.000000e+00</td>\n",
       "      <td>1.213954e-10</td>\n",
       "      <td>2.306207e-95</td>\n",
       "      <td>6.497860e-46</td>\n",
       "      <td>1.000000e+00</td>\n",
       "      <td>9.593619e-05</td>\n",
       "      <td>5.454411e-19</td>\n",
       "      <td>1.000000e+00</td>\n",
       "    </tr>\n",
       "    <tr>\n",
       "      <th>2</th>\n",
       "      <td>1.213954e-10</td>\n",
       "      <td>1.000000e+00</td>\n",
       "      <td>1.497488e-68</td>\n",
       "      <td>1.651503e-25</td>\n",
       "      <td>4.083483e-02</td>\n",
       "      <td>6.375086e-02</td>\n",
       "      <td>5.629129e-41</td>\n",
       "      <td>3.290010e-04</td>\n",
       "    </tr>\n",
       "    <tr>\n",
       "      <th>3</th>\n",
       "      <td>2.306207e-95</td>\n",
       "      <td>1.497488e-68</td>\n",
       "      <td>1.000000e+00</td>\n",
       "      <td>1.000000e+00</td>\n",
       "      <td>9.646612e-25</td>\n",
       "      <td>3.389798e-95</td>\n",
       "      <td>1.029523e-99</td>\n",
       "      <td>8.431562e-61</td>\n",
       "    </tr>\n",
       "    <tr>\n",
       "      <th>4</th>\n",
       "      <td>6.497860e-46</td>\n",
       "      <td>1.651503e-25</td>\n",
       "      <td>1.000000e+00</td>\n",
       "      <td>1.000000e+00</td>\n",
       "      <td>3.940654e-18</td>\n",
       "      <td>2.360877e-35</td>\n",
       "      <td>3.788536e-74</td>\n",
       "      <td>6.466340e-33</td>\n",
       "    </tr>\n",
       "    <tr>\n",
       "      <th>5</th>\n",
       "      <td>1.000000e+00</td>\n",
       "      <td>4.083483e-02</td>\n",
       "      <td>9.646612e-25</td>\n",
       "      <td>3.940654e-18</td>\n",
       "      <td>1.000000e+00</td>\n",
       "      <td>1.000000e+00</td>\n",
       "      <td>1.009979e-10</td>\n",
       "      <td>1.000000e+00</td>\n",
       "    </tr>\n",
       "    <tr>\n",
       "      <th>6</th>\n",
       "      <td>9.593619e-05</td>\n",
       "      <td>6.375086e-02</td>\n",
       "      <td>3.389798e-95</td>\n",
       "      <td>2.360877e-35</td>\n",
       "      <td>1.000000e+00</td>\n",
       "      <td>1.000000e+00</td>\n",
       "      <td>2.397575e-34</td>\n",
       "      <td>3.918676e-01</td>\n",
       "    </tr>\n",
       "    <tr>\n",
       "      <th>7</th>\n",
       "      <td>5.454411e-19</td>\n",
       "      <td>5.629129e-41</td>\n",
       "      <td>1.029523e-99</td>\n",
       "      <td>3.788536e-74</td>\n",
       "      <td>1.009979e-10</td>\n",
       "      <td>2.397575e-34</td>\n",
       "      <td>1.000000e+00</td>\n",
       "      <td>1.617291e-20</td>\n",
       "    </tr>\n",
       "    <tr>\n",
       "      <th>8</th>\n",
       "      <td>1.000000e+00</td>\n",
       "      <td>3.290010e-04</td>\n",
       "      <td>8.431562e-61</td>\n",
       "      <td>6.466340e-33</td>\n",
       "      <td>1.000000e+00</td>\n",
       "      <td>3.918676e-01</td>\n",
       "      <td>1.617291e-20</td>\n",
       "      <td>1.000000e+00</td>\n",
       "    </tr>\n",
       "  </tbody>\n",
       "</table>\n",
       "</div>"
      ],
      "text/plain": [
       "              1             2             3             4             5  \\\n",
       "1  1.000000e+00  1.213954e-10  2.306207e-95  6.497860e-46  1.000000e+00   \n",
       "2  1.213954e-10  1.000000e+00  1.497488e-68  1.651503e-25  4.083483e-02   \n",
       "3  2.306207e-95  1.497488e-68  1.000000e+00  1.000000e+00  9.646612e-25   \n",
       "4  6.497860e-46  1.651503e-25  1.000000e+00  1.000000e+00  3.940654e-18   \n",
       "5  1.000000e+00  4.083483e-02  9.646612e-25  3.940654e-18  1.000000e+00   \n",
       "6  9.593619e-05  6.375086e-02  3.389798e-95  2.360877e-35  1.000000e+00   \n",
       "7  5.454411e-19  5.629129e-41  1.029523e-99  3.788536e-74  1.009979e-10   \n",
       "8  1.000000e+00  3.290010e-04  8.431562e-61  6.466340e-33  1.000000e+00   \n",
       "\n",
       "              6             7             8  \n",
       "1  9.593619e-05  5.454411e-19  1.000000e+00  \n",
       "2  6.375086e-02  5.629129e-41  3.290010e-04  \n",
       "3  3.389798e-95  1.029523e-99  8.431562e-61  \n",
       "4  2.360877e-35  3.788536e-74  6.466340e-33  \n",
       "5  1.000000e+00  1.009979e-10  1.000000e+00  \n",
       "6  1.000000e+00  2.397575e-34  3.918676e-01  \n",
       "7  2.397575e-34  1.000000e+00  1.617291e-20  \n",
       "8  3.918676e-01  1.617291e-20  1.000000e+00  "
      ]
     },
     "execution_count": 16,
     "metadata": {},
     "output_type": "execute_result"
    }
   ],
   "source": [
    "sp.posthoc_mannwhitney([data[x] for x in data], p_adjust = 'bonferroni')"
   ]
  },
  {
   "cell_type": "code",
   "execution_count": 17,
   "id": "1569e92a-8190-4a33-8ac0-bacb0b80ea21",
   "metadata": {},
   "outputs": [
    {
     "data": {
      "text/plain": [
       "<AxesSubplot:>"
      ]
     },
     "execution_count": 17,
     "metadata": {},
     "output_type": "execute_result"
    },
    {
     "data": {
      "image/png": "[encoded data removed]",
      "text/plain": [
       "<Figure size 432x288 with 2 Axes>"
      ]
     },
     "metadata": {
      "needs_background": "light"
     },
     "output_type": "display_data"
    }
   ],
   "source": [
    "sns.heatmap(np.array(sp.posthoc_dunn([data[x] for x in data], p_adjust = 'bonferroni')))"
   ]
  },
  {
   "cell_type": "code",
   "execution_count": 23,
   "id": "5768f223-1ceb-4eee-b97e-b9c58ec53afc",
   "metadata": {},
   "outputs": [
    {
     "data": {
      "text/plain": [
       "dict_keys([('en', 'de'), ('en', 'es'), ('en', 'fr'), ('en', 'it'), ('en', 'pt'), ('es', 'en'), ('it', 'en'), ('pt', 'en')])"
      ]
     },
     "execution_count": 23,
     "metadata": {},
     "output_type": "execute_result"
    }
   ],
   "source": [
    "data.keys()"
   ]
  },
  {
   "cell_type": "code",
   "execution_count": 25,
   "id": "2d685ced-6112-4972-ae4e-2ea846c425ea",
   "metadata": {},
   "outputs": [],
   "source": [
    "valid_keys = [('en', 'de'), ('en', 'es'), ('en', 'fr'), ('en', 'it')]"
   ]
  },
  {
   "cell_type": "code",
   "execution_count": 26,
   "id": "c29b859b-23cf-411b-8406-ede941c80bd4",
   "metadata": {},
   "outputs": [
    {
     "data": {
      "text/plain": [
       "Text(0.5, 1.0, 'Statistical Significance')"
      ]
     },
     "execution_count": 26,
     "metadata": {},
     "output_type": "execute_result"
    },
    {
     "data": {
      "image/png": "[encoded data removed]",
      "text/plain": [
       "<Figure size 432x288 with 2 Axes>"
      ]
     },
     "metadata": {
      "needs_background": "light"
     },
     "output_type": "display_data"
    }
   ],
   "source": [
    "ax = sns.heatmap((np.array(sp.posthoc_dunn([data[x] for x in valid_keys], p_adjust = 'bonferroni')))[:4, :4])\n",
    "ax.set_xticklabels([x[1] for x in data.keys()][:4])\n",
    "ax.set_yticklabels([x[1] for x in data.keys()][:4]);\n",
    "\n",
    "ax.set_title(\"Statistical Significance\")"
   ]
  },
  {
   "cell_type": "code",
   "execution_count": 27,
   "id": "b68a797e-dd19-43aa-9b44-9581db80ab22",
   "metadata": {},
   "outputs": [
    {
     "data": {
      "text/html": [
       "<div>\n",
       "<style scoped>\n",
       "    .dataframe tbody tr th:only-of-type {\n",
       "        vertical-align: middle;\n",
       "    }\n",
       "\n",
       "    .dataframe tbody tr th {\n",
       "        vertical-align: top;\n",
       "    }\n",
       "\n",
       "    .dataframe thead th {\n",
       "        text-align: right;\n",
       "    }\n",
       "</style>\n",
       "<table border=\"1\" class=\"dataframe\">\n",
       "  <thead>\n",
       "    <tr style=\"text-align: right;\">\n",
       "      <th></th>\n",
       "      <th>1</th>\n",
       "      <th>2</th>\n",
       "      <th>3</th>\n",
       "      <th>4</th>\n",
       "    </tr>\n",
       "  </thead>\n",
       "  <tbody>\n",
       "    <tr>\n",
       "      <th>1</th>\n",
       "      <td>1.000000e+00</td>\n",
       "      <td>2.601330e-11</td>\n",
       "      <td>4.941872e-96</td>\n",
       "      <td>1.392399e-46</td>\n",
       "    </tr>\n",
       "    <tr>\n",
       "      <th>2</th>\n",
       "      <td>2.601330e-11</td>\n",
       "      <td>1.000000e+00</td>\n",
       "      <td>3.208903e-69</td>\n",
       "      <td>3.538934e-26</td>\n",
       "    </tr>\n",
       "    <tr>\n",
       "      <th>3</th>\n",
       "      <td>4.941872e-96</td>\n",
       "      <td>3.208903e-69</td>\n",
       "      <td>1.000000e+00</td>\n",
       "      <td>8.410504e-01</td>\n",
       "    </tr>\n",
       "    <tr>\n",
       "      <th>4</th>\n",
       "      <td>1.392399e-46</td>\n",
       "      <td>3.538934e-26</td>\n",
       "      <td>8.410504e-01</td>\n",
       "      <td>1.000000e+00</td>\n",
       "    </tr>\n",
       "  </tbody>\n",
       "</table>\n",
       "</div>"
      ],
      "text/plain": [
       "              1             2             3             4\n",
       "1  1.000000e+00  2.601330e-11  4.941872e-96  1.392399e-46\n",
       "2  2.601330e-11  1.000000e+00  3.208903e-69  3.538934e-26\n",
       "3  4.941872e-96  3.208903e-69  1.000000e+00  8.410504e-01\n",
       "4  1.392399e-46  3.538934e-26  8.410504e-01  1.000000e+00"
      ]
     },
     "execution_count": 27,
     "metadata": {},
     "output_type": "execute_result"
    }
   ],
   "source": [
    "sp.posthoc_mannwhitney([data[x] for x in valid_keys], p_adjust = 'bonferroni')"
   ]
  },
  {
   "cell_type": "code",
   "execution_count": null,
   "id": "bdbb59d0-5b31-4662-8879-7162074bad61",
   "metadata": {},
   "outputs": [],
   "source": [
    "sp.posthoc_mannwhitney([data[x] for x in data], p_adjust = 'bonferroni')"
   ]
  },
  {
   "cell_type": "code",
   "execution_count": null,
   "id": "f1e91227-61df-48d6-b943-e39a07e7bfd9",
   "metadata": {},
   "outputs": [],
   "source": []
  },
  {
   "cell_type": "code",
   "execution_count": 60,
   "id": "27c51316-5f63-43a5-b896-1ee0c65fae30",
   "metadata": {},
   "outputs": [
    {
     "name": "stdout",
     "output_type": "stream",
     "text": [
      "(0, ('en', 'de'))\n",
      "(1, ('en', 'es'))\n",
      "(2, ('en', 'fr'))\n",
      "(3, ('en', 'it'))\n",
      "(4, ('en', 'pt'))\n",
      "(5, ('es', 'en'))\n",
      "(6, ('it', 'en'))\n",
      "(7, ('pt', 'en'))\n"
     ]
    }
   ],
   "source": [
    "print(*list(enumerate(data.keys())), sep='\\n')"
   ]
  },
  {
   "cell_type": "code",
   "execution_count": 63,
   "id": "fdec0757-7c39-4946-bf55-e62b2aad7a35",
   "metadata": {},
   "outputs": [
    {
     "data": {
      "text/plain": [
       "[(('en', 'de'), 0.8958368962794201),\n",
       " (('en', 'es'), 0.8915752719486799),\n",
       " (('en', 'fr'), 0.8787199475544316),\n",
       " (('en', 'it'), 0.8787010465800806),\n",
       " (('en', 'pt'), 0.89426637795892),\n",
       " (('es', 'en'), 0.8930269683189648),\n",
       " (('it', 'en'), 0.9071784372979556),\n",
       " (('pt', 'en'), 0.8944905696198209)]"
      ]
     },
     "execution_count": 63,
     "metadata": {},
     "output_type": "execute_result"
    }
   ],
   "source": [
    "[(x, np.mean(data[x])) for x in data]"
   ]
  },
  {
   "cell_type": "markdown",
   "id": "47c287c9-055c-4f8c-80d9-f16b6e495e8d",
   "metadata": {},
   "source": [
    "Having en as ui_lang, \n",
    "    * There's difference between de and (es, fr, it). This coincides with language family\n",
    "    * fr and it and not different. Same family, not the case for es and pt though. Can we say this btw from the statistical test?\n",
    "\n",
    "Learning es from it and pt have differences too\n",
    "\n",
    "Maybe it makes more sense to say that most pairs are different and highlight the difference to show that this is not the case for langauge families"
   ]
  },
  {
   "cell_type": "markdown",
   "id": "5661237b-c5d2-4155-a053-0529dfb45184",
   "metadata": {},
   "source": [
    "# Q2: Difference between groups of users learning just single language and more than one langauges"
   ]
  },
  {
   "cell_type": "code",
   "execution_count": 31,
   "id": "1aed1e12-0317-4cd3-a3b9-39604ea1abbe",
   "metadata": {},
   "outputs": [],
   "source": [
    "user_grouped = list(df.groupby(\"user_id\"))"
   ]
  },
  {
   "cell_type": "code",
   "execution_count": 32,
   "id": "2c36fedd-9876-4e23-b7f6-bf36fa499882",
   "metadata": {},
   "outputs": [
    {
     "data": {
      "application/vnd.jupyter.widget-view+json": {
       "model_id": "c72c4870f0d14093b54a062d9acf0048",
       "version_major": 2,
       "version_minor": 0
      },
      "text/plain": [
       "  0%|          | 0/115222 [00:00<?, ?it/s]"
      ]
     },
     "metadata": {},
     "output_type": "display_data"
    }
   ],
   "source": [
    "learning_language_pairs = set()\n",
    "for user in tqdm(user_grouped):\n",
    "    learning_language_pairs.add(tuple(user[1].learning_language.unique().tolist()))"
   ]
  },
  {
   "cell_type": "code",
   "execution_count": 33,
   "id": "9b879065-36f5-420e-82ad-de9406b5b601",
   "metadata": {},
   "outputs": [
    {
     "data": {
      "application/vnd.jupyter.widget-view+json": {
       "model_id": "c43e8748b209453b941546511d7f384e",
       "version_major": 2,
       "version_minor": 0
      },
      "text/plain": [
       "  0%|          | 0/115222 [00:00<?, ?it/s]"
      ]
     },
     "metadata": {},
     "output_type": "display_data"
    }
   ],
   "source": [
    "learning_language_pairs_stats = {x:0 for x in learning_language_pairs}\n",
    "for user in tqdm(user_grouped):\n",
    "    pair = tuple(user[1].learning_language.unique().tolist())\n",
    "    learning_language_pairs_stats[pair] += 1"
   ]
  },
  {
   "cell_type": "code",
   "execution_count": 34,
   "id": "39408184-9a48-432e-aeb6-84fd47a6a89f",
   "metadata": {},
   "outputs": [],
   "source": [
    "# Most combinations are very rare, only have one or two users\n",
    "learning_language_pairs = set(filter(lambda x: learning_language_pairs_stats[x] >= 100, learning_language_pairs))"
   ]
  },
  {
   "cell_type": "code",
   "execution_count": 35,
   "id": "14c20692-fc78-4550-b2a4-e48ef7f34e44",
   "metadata": {},
   "outputs": [
    {
     "data": {
      "text/plain": [
       "{('de',),\n",
       " ('de', 'es'),\n",
       " ('de', 'fr'),\n",
       " ('en',),\n",
       " ('es',),\n",
       " ('es', 'de'),\n",
       " ('es', 'fr'),\n",
       " ('fr',),\n",
       " ('fr', 'de'),\n",
       " ('fr', 'es'),\n",
       " ('it',),\n",
       " ('pt',)}"
      ]
     },
     "execution_count": 35,
     "metadata": {},
     "output_type": "execute_result"
    }
   ],
   "source": [
    "learning_language_pairs"
   ]
  },
  {
   "cell_type": "code",
   "execution_count": 36,
   "id": "2684dd67-beb9-48db-bfa0-4dd12dbd1fc4",
   "metadata": {},
   "outputs": [],
   "source": [
    "user_grouped = list(df.groupby(\"user_id\"))"
   ]
  },
  {
   "cell_type": "code",
   "execution_count": 37,
   "id": "534e7cf5-9c80-41d0-ba47-25af9bb4d250",
   "metadata": {},
   "outputs": [
    {
     "data": {
      "application/vnd.jupyter.widget-view+json": {
       "model_id": "02fe265185d44bacad8dbab5501b3a3d",
       "version_major": 2,
       "version_minor": 0
      },
      "text/plain": [
       "  0%|          | 0/115222 [00:00<?, ?it/s]"
      ]
     },
     "metadata": {},
     "output_type": "display_data"
    }
   ],
   "source": [
    "data = {x:[] for x in learning_language_pairs}\n",
    "\n",
    "\n",
    "for user in tqdm(user_grouped):\n",
    "    lexeme_grouped = user[1].groupby(\"lexeme_id\")\n",
    "    pair = tuple(user[1].learning_language.unique().tolist())\n",
    "    \n",
    "    if pair not in learning_language_pairs:\n",
    "        continue\n",
    "\n",
    "    user_performance = []\n",
    "    for lexeme in lexeme_grouped:\n",
    "        last_entry = lexeme[1].iloc[-1]\n",
    "        user_performance.append(last_entry.history_correct/last_entry.history_seen)\n",
    "    user_performance_aggregate = np.mean(user_performance)\n",
    "    data[pair].append(user_performance_aggregate)"
   ]
  },
  {
   "cell_type": "code",
   "execution_count": 38,
   "id": "432b443b-a464-4e65-a8ba-dfea0a406c31",
   "metadata": {},
   "outputs": [
    {
     "data": {
      "text/plain": [
       "KruskalResult(statistic=906.9016887870002, pvalue=2.0354078063411943e-187)"
      ]
     },
     "execution_count": 38,
     "metadata": {},
     "output_type": "execute_result"
    }
   ],
   "source": [
    "stats.kruskal(*[data[x] for x in data])"
   ]
  },
  {
   "cell_type": "code",
   "execution_count": 39,
   "id": "247fa7de-cace-4bd1-88fa-3f52ebb088d4",
   "metadata": {},
   "outputs": [
    {
     "data": {
      "text/html": [
       "<div>\n",
       "<style scoped>\n",
       "    .dataframe tbody tr th:only-of-type {\n",
       "        vertical-align: middle;\n",
       "    }\n",
       "\n",
       "    .dataframe tbody tr th {\n",
       "        vertical-align: top;\n",
       "    }\n",
       "\n",
       "    .dataframe thead th {\n",
       "        text-align: right;\n",
       "    }\n",
       "</style>\n",
       "<table border=\"1\" class=\"dataframe\">\n",
       "  <thead>\n",
       "    <tr style=\"text-align: right;\">\n",
       "      <th></th>\n",
       "      <th>1</th>\n",
       "      <th>2</th>\n",
       "      <th>3</th>\n",
       "      <th>4</th>\n",
       "      <th>5</th>\n",
       "      <th>6</th>\n",
       "      <th>7</th>\n",
       "      <th>8</th>\n",
       "      <th>9</th>\n",
       "      <th>10</th>\n",
       "      <th>11</th>\n",
       "      <th>12</th>\n",
       "    </tr>\n",
       "  </thead>\n",
       "  <tbody>\n",
       "    <tr>\n",
       "      <th>1</th>\n",
       "      <td>1.000000</td>\n",
       "      <td>1.000000</td>\n",
       "      <td>1.000000e+00</td>\n",
       "      <td>1.000000e+00</td>\n",
       "      <td>1.000000</td>\n",
       "      <td>1.075510e-04</td>\n",
       "      <td>1.000000e+00</td>\n",
       "      <td>3.635116e-04</td>\n",
       "      <td>1.000000</td>\n",
       "      <td>1.000000e+00</td>\n",
       "      <td>1.000000e+00</td>\n",
       "      <td>1.000000e+00</td>\n",
       "    </tr>\n",
       "    <tr>\n",
       "      <th>2</th>\n",
       "      <td>1.000000</td>\n",
       "      <td>1.000000</td>\n",
       "      <td>1.000000e+00</td>\n",
       "      <td>1.000000e+00</td>\n",
       "      <td>1.000000</td>\n",
       "      <td>7.857245e-04</td>\n",
       "      <td>1.000000e+00</td>\n",
       "      <td>1.957684e-03</td>\n",
       "      <td>1.000000</td>\n",
       "      <td>1.000000e+00</td>\n",
       "      <td>1.000000e+00</td>\n",
       "      <td>1.000000e+00</td>\n",
       "    </tr>\n",
       "    <tr>\n",
       "      <th>3</th>\n",
       "      <td>1.000000</td>\n",
       "      <td>1.000000</td>\n",
       "      <td>1.000000e+00</td>\n",
       "      <td>1.000000e+00</td>\n",
       "      <td>1.000000</td>\n",
       "      <td>7.714524e-23</td>\n",
       "      <td>6.280477e-02</td>\n",
       "      <td>9.581402e-17</td>\n",
       "      <td>1.000000</td>\n",
       "      <td>2.316166e-01</td>\n",
       "      <td>1.000000e+00</td>\n",
       "      <td>1.061447e-01</td>\n",
       "    </tr>\n",
       "    <tr>\n",
       "      <th>4</th>\n",
       "      <td>1.000000</td>\n",
       "      <td>1.000000</td>\n",
       "      <td>1.000000e+00</td>\n",
       "      <td>1.000000e+00</td>\n",
       "      <td>1.000000</td>\n",
       "      <td>9.347315e-142</td>\n",
       "      <td>3.131169e-02</td>\n",
       "      <td>9.563483e-52</td>\n",
       "      <td>1.000000</td>\n",
       "      <td>2.158633e-15</td>\n",
       "      <td>1.000000e+00</td>\n",
       "      <td>6.600599e-02</td>\n",
       "    </tr>\n",
       "    <tr>\n",
       "      <th>5</th>\n",
       "      <td>1.000000</td>\n",
       "      <td>1.000000</td>\n",
       "      <td>1.000000e+00</td>\n",
       "      <td>1.000000e+00</td>\n",
       "      <td>1.000000</td>\n",
       "      <td>7.005129e-03</td>\n",
       "      <td>1.000000e+00</td>\n",
       "      <td>1.534415e-02</td>\n",
       "      <td>1.000000</td>\n",
       "      <td>1.000000e+00</td>\n",
       "      <td>1.000000e+00</td>\n",
       "      <td>1.000000e+00</td>\n",
       "    </tr>\n",
       "    <tr>\n",
       "      <th>6</th>\n",
       "      <td>0.000108</td>\n",
       "      <td>0.000786</td>\n",
       "      <td>7.714524e-23</td>\n",
       "      <td>9.347315e-142</td>\n",
       "      <td>0.007005</td>\n",
       "      <td>1.000000e+00</td>\n",
       "      <td>2.336632e-12</td>\n",
       "      <td>1.000000e+00</td>\n",
       "      <td>0.000945</td>\n",
       "      <td>4.977186e-64</td>\n",
       "      <td>1.696036e-86</td>\n",
       "      <td>4.523739e-10</td>\n",
       "    </tr>\n",
       "    <tr>\n",
       "      <th>7</th>\n",
       "      <td>1.000000</td>\n",
       "      <td>1.000000</td>\n",
       "      <td>6.280477e-02</td>\n",
       "      <td>3.131169e-02</td>\n",
       "      <td>1.000000</td>\n",
       "      <td>2.336632e-12</td>\n",
       "      <td>1.000000e+00</td>\n",
       "      <td>2.449360e-11</td>\n",
       "      <td>1.000000</td>\n",
       "      <td>2.177998e-04</td>\n",
       "      <td>4.577068e-02</td>\n",
       "      <td>1.000000e+00</td>\n",
       "    </tr>\n",
       "    <tr>\n",
       "      <th>8</th>\n",
       "      <td>0.000364</td>\n",
       "      <td>0.001958</td>\n",
       "      <td>9.581402e-17</td>\n",
       "      <td>9.563483e-52</td>\n",
       "      <td>0.015344</td>\n",
       "      <td>1.000000e+00</td>\n",
       "      <td>2.449360e-11</td>\n",
       "      <td>1.000000e+00</td>\n",
       "      <td>0.002123</td>\n",
       "      <td>2.570872e-24</td>\n",
       "      <td>5.270888e-42</td>\n",
       "      <td>2.472841e-09</td>\n",
       "    </tr>\n",
       "    <tr>\n",
       "      <th>9</th>\n",
       "      <td>1.000000</td>\n",
       "      <td>1.000000</td>\n",
       "      <td>1.000000e+00</td>\n",
       "      <td>1.000000e+00</td>\n",
       "      <td>1.000000</td>\n",
       "      <td>9.453145e-04</td>\n",
       "      <td>1.000000e+00</td>\n",
       "      <td>2.122683e-03</td>\n",
       "      <td>1.000000</td>\n",
       "      <td>1.000000e+00</td>\n",
       "      <td>1.000000e+00</td>\n",
       "      <td>1.000000e+00</td>\n",
       "    </tr>\n",
       "    <tr>\n",
       "      <th>10</th>\n",
       "      <td>1.000000</td>\n",
       "      <td>1.000000</td>\n",
       "      <td>2.316166e-01</td>\n",
       "      <td>2.158633e-15</td>\n",
       "      <td>1.000000</td>\n",
       "      <td>4.977186e-64</td>\n",
       "      <td>2.177998e-04</td>\n",
       "      <td>2.570872e-24</td>\n",
       "      <td>1.000000</td>\n",
       "      <td>1.000000e+00</td>\n",
       "      <td>9.874399e-09</td>\n",
       "      <td>1.121008e-03</td>\n",
       "    </tr>\n",
       "    <tr>\n",
       "      <th>11</th>\n",
       "      <td>1.000000</td>\n",
       "      <td>1.000000</td>\n",
       "      <td>1.000000e+00</td>\n",
       "      <td>1.000000e+00</td>\n",
       "      <td>1.000000</td>\n",
       "      <td>1.696036e-86</td>\n",
       "      <td>4.577068e-02</td>\n",
       "      <td>5.270888e-42</td>\n",
       "      <td>1.000000</td>\n",
       "      <td>9.874399e-09</td>\n",
       "      <td>1.000000e+00</td>\n",
       "      <td>8.896205e-02</td>\n",
       "    </tr>\n",
       "    <tr>\n",
       "      <th>12</th>\n",
       "      <td>1.000000</td>\n",
       "      <td>1.000000</td>\n",
       "      <td>1.061447e-01</td>\n",
       "      <td>6.600599e-02</td>\n",
       "      <td>1.000000</td>\n",
       "      <td>4.523739e-10</td>\n",
       "      <td>1.000000e+00</td>\n",
       "      <td>2.472841e-09</td>\n",
       "      <td>1.000000</td>\n",
       "      <td>1.121008e-03</td>\n",
       "      <td>8.896205e-02</td>\n",
       "      <td>1.000000e+00</td>\n",
       "    </tr>\n",
       "  </tbody>\n",
       "</table>\n",
       "</div>"
      ],
      "text/plain": [
       "          1         2             3              4         5              6   \\\n",
       "1   1.000000  1.000000  1.000000e+00   1.000000e+00  1.000000   1.075510e-04   \n",
       "2   1.000000  1.000000  1.000000e+00   1.000000e+00  1.000000   7.857245e-04   \n",
       "3   1.000000  1.000000  1.000000e+00   1.000000e+00  1.000000   7.714524e-23   \n",
       "4   1.000000  1.000000  1.000000e+00   1.000000e+00  1.000000  9.347315e-142   \n",
       "5   1.000000  1.000000  1.000000e+00   1.000000e+00  1.000000   7.005129e-03   \n",
       "6   0.000108  0.000786  7.714524e-23  9.347315e-142  0.007005   1.000000e+00   \n",
       "7   1.000000  1.000000  6.280477e-02   3.131169e-02  1.000000   2.336632e-12   \n",
       "8   0.000364  0.001958  9.581402e-17   9.563483e-52  0.015344   1.000000e+00   \n",
       "9   1.000000  1.000000  1.000000e+00   1.000000e+00  1.000000   9.453145e-04   \n",
       "10  1.000000  1.000000  2.316166e-01   2.158633e-15  1.000000   4.977186e-64   \n",
       "11  1.000000  1.000000  1.000000e+00   1.000000e+00  1.000000   1.696036e-86   \n",
       "12  1.000000  1.000000  1.061447e-01   6.600599e-02  1.000000   4.523739e-10   \n",
       "\n",
       "              7             8         9             10            11  \\\n",
       "1   1.000000e+00  3.635116e-04  1.000000  1.000000e+00  1.000000e+00   \n",
       "2   1.000000e+00  1.957684e-03  1.000000  1.000000e+00  1.000000e+00   \n",
       "3   6.280477e-02  9.581402e-17  1.000000  2.316166e-01  1.000000e+00   \n",
       "4   3.131169e-02  9.563483e-52  1.000000  2.158633e-15  1.000000e+00   \n",
       "5   1.000000e+00  1.534415e-02  1.000000  1.000000e+00  1.000000e+00   \n",
       "6   2.336632e-12  1.000000e+00  0.000945  4.977186e-64  1.696036e-86   \n",
       "7   1.000000e+00  2.449360e-11  1.000000  2.177998e-04  4.577068e-02   \n",
       "8   2.449360e-11  1.000000e+00  0.002123  2.570872e-24  5.270888e-42   \n",
       "9   1.000000e+00  2.122683e-03  1.000000  1.000000e+00  1.000000e+00   \n",
       "10  2.177998e-04  2.570872e-24  1.000000  1.000000e+00  9.874399e-09   \n",
       "11  4.577068e-02  5.270888e-42  1.000000  9.874399e-09  1.000000e+00   \n",
       "12  1.000000e+00  2.472841e-09  1.000000  1.121008e-03  8.896205e-02   \n",
       "\n",
       "              12  \n",
       "1   1.000000e+00  \n",
       "2   1.000000e+00  \n",
       "3   1.061447e-01  \n",
       "4   6.600599e-02  \n",
       "5   1.000000e+00  \n",
       "6   4.523739e-10  \n",
       "7   1.000000e+00  \n",
       "8   2.472841e-09  \n",
       "9   1.000000e+00  \n",
       "10  1.121008e-03  \n",
       "11  8.896205e-02  \n",
       "12  1.000000e+00  "
      ]
     },
     "execution_count": 39,
     "metadata": {},
     "output_type": "execute_result"
    }
   ],
   "source": [
    "sp.posthoc_dunn([data[x] for x in data], p_adjust = 'bonferroni')"
   ]
  },
  {
   "cell_type": "code",
   "execution_count": 40,
   "id": "59e8a0c2-56b7-4554-9d91-3bfc5616e428",
   "metadata": {},
   "outputs": [
    {
     "data": {
      "text/plain": [
       "<AxesSubplot:>"
      ]
     },
     "execution_count": 40,
     "metadata": {},
     "output_type": "execute_result"
    },
    {
     "data": {
      "image/png": "[encoded data removed]",
      "text/plain": [
       "<Figure size 432x288 with 2 Axes>"
      ]
     },
     "metadata": {
      "needs_background": "light"
     },
     "output_type": "display_data"
    }
   ],
   "source": [
    "sns.heatmap(np.array(sp.posthoc_dunn([data[x] for x in data], p_adjust = 'bonferroni')))"
   ]
  },
  {
   "cell_type": "code",
   "execution_count": 44,
   "id": "95f6e2b4-b1ee-4e51-85bf-8fcb894ed31f",
   "metadata": {},
   "outputs": [
    {
     "data": {
      "text/plain": [
       "<AxesSubplot:>"
      ]
     },
     "execution_count": 44,
     "metadata": {},
     "output_type": "execute_result"
    },
    {
     "data": {
      "image/png": "[encoded data removed]",
      "text/plain": [
       "<Figure size 432x288 with 2 Axes>"
      ]
     },
     "metadata": {
      "needs_background": "light"
     },
     "output_type": "display_data"
    }
   ],
   "source": [
    "sns.heatmap(np.array(sp.posthoc_dunn([data[x] for x in data], p_adjust = 'bonferroni')) <= 0.001)"
   ]
  },
  {
   "cell_type": "code",
   "execution_count": 42,
   "id": "05d849b6-f205-4991-98f0-51edb438981a",
   "metadata": {},
   "outputs": [
    {
     "name": "stdout",
     "output_type": "stream",
     "text": [
      "(0, ('fr', 'es'))\n",
      "(1, ('fr', 'de'))\n",
      "(2, ('pt',))\n",
      "(3, ('en',))\n",
      "(4, ('de', 'fr'))\n",
      "(5, ('fr',))\n",
      "(6, ('es', 'fr'))\n",
      "(7, ('it',))\n",
      "(8, ('de', 'es'))\n",
      "(9, ('es',))\n",
      "(10, ('de',))\n",
      "(11, ('es', 'de'))\n"
     ]
    }
   ],
   "source": [
    "print(*list(enumerate(data.keys())), sep='\\n')"
   ]
  },
  {
   "cell_type": "code",
   "execution_count": 132,
   "id": "2dad46d0-8d67-4325-88b5-9d2ac9942e8b",
   "metadata": {},
   "outputs": [
    {
     "data": {
      "text/plain": [
       "[(('de', 'fr'), 0.8997225462754734),\n",
       " (('it', 'fr'), 0.8968245664377715),\n",
       " (('es', 'de'), 0.9079839894661338),\n",
       " (('es',), 0.8904327902748564),\n",
       " (('de', 'es'), 0.9014029802599554),\n",
       " (('it', 'es'), 0.9088100667851009),\n",
       " (('en',), 0.8942523173451581),\n",
       " (('fr', 'de'), 0.902390465580517),\n",
       " (('es', 'it'), 0.9085522782443044),\n",
       " (('de',), 0.8944121976086133),\n",
       " (('fr', 'it'), 0.8939549867637838),\n",
       " (('it',), 0.8768499231210403),\n",
       " (('it', 'de'), 0.9086512987415414),\n",
       " (('es', 'fr'), 0.9074863430867993),\n",
       " (('de', 'it'), 0.912860834418727),\n",
       " (('pt',), 0.8930656658451296),\n",
       " (('fr',), 0.8772713658302405),\n",
       " (('fr', 'es'), 0.9010795739178434)]"
      ]
     },
     "execution_count": 132,
     "metadata": {},
     "output_type": "execute_result"
    }
   ],
   "source": [
    "[(x, np.mean(data[x])) for x in data]"
   ]
  },
  {
   "cell_type": "code",
   "execution_count": null,
   "id": "28de3e4f-3df1-4fad-9c52-3bc0bba33d69",
   "metadata": {},
   "outputs": [],
   "source": []
  }
 ],
 "metadata": {
  "kernelspec": {
   "display_name": "Python 3",
   "language": "python",
   "name": "python3"
  },
  "language_info": {
   "codemirror_mode": {
    "name": "ipython",
    "version": 3
   },
   "file_extension": ".py",
   "mimetype": "text/x-python",
   "name": "python",
   "nbconvert_exporter": "python",
   "pygments_lexer": "ipython3",
   "version": "3.9.12"
  }
 },
 "nbformat": 4,
 "nbformat_minor": 5
}
