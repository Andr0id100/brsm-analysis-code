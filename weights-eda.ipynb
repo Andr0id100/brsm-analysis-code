{
 "cells": [
  {
   "cell_type": "code",
   "execution_count": 4,
   "id": "935dc0fc-c1c8-41c1-90c5-66d29463aa33",
   "metadata": {},
   "outputs": [],
   "source": [
    "import pandas as pd"
   ]
  },
  {
   "cell_type": "code",
   "execution_count": 5,
   "id": "0555027d-4a5c-47fc-ba08-c4b00f8b0392",
   "metadata": {},
   "outputs": [],
   "source": [
    "def process_row(row):\n",
    "    language = row[:row.index(':')]\n",
    "    lexeme = row[row.index(':')+1:row.index('<')]\n",
    "    tags = row[row.index('<'):row.rindex('>')+1]\n",
    "    separated_tags = []\n",
    "    start, end = 0, 0\n",
    "    while '<' in tags[start:]:\n",
    "        end = tags.index('>', start)\n",
    "        separated_tags.append(tags[start+1:end])\n",
    "        start = end+1\n",
    "    weight = float(row[row.index('\\t')+1:])\n",
    "    \n",
    "    return (language, lexeme, separated_tags, weight)"
   ]
  },
  {
   "cell_type": "code",
   "execution_count": 6,
   "id": "26012bb5-5384-4edd-88f2-af0d3d62422c",
   "metadata": {},
   "outputs": [
    {
     "name": "stdout",
     "output_type": "stream",
     "text": [
      "19279\n"
     ]
    },
    {
     "data": {
      "text/html": [
       "<div>\n",
       "<style scoped>\n",
       "    .dataframe tbody tr th:only-of-type {\n",
       "        vertical-align: middle;\n",
       "    }\n",
       "\n",
       "    .dataframe tbody tr th {\n",
       "        vertical-align: top;\n",
       "    }\n",
       "\n",
       "    .dataframe thead th {\n",
       "        text-align: right;\n",
       "    }\n",
       "</style>\n",
       "<table border=\"1\" class=\"dataframe\">\n",
       "  <thead>\n",
       "    <tr style=\"text-align: right;\">\n",
       "      <th></th>\n",
       "      <th>language</th>\n",
       "      <th>lexeme</th>\n",
       "      <th>tags</th>\n",
       "      <th>weight</th>\n",
       "    </tr>\n",
       "  </thead>\n",
       "  <tbody>\n",
       "    <tr>\n",
       "      <th>0</th>\n",
       "      <td>es</td>\n",
       "      <td>desde/desde</td>\n",
       "      <td>[pr]</td>\n",
       "      <td>0.1707</td>\n",
       "    </tr>\n",
       "    <tr>\n",
       "      <th>1</th>\n",
       "      <td>es</td>\n",
       "      <td>como/comer</td>\n",
       "      <td>[vblex, pri, p1, sg]</td>\n",
       "      <td>0.1708</td>\n",
       "    </tr>\n",
       "    <tr>\n",
       "      <th>2</th>\n",
       "      <td>de</td>\n",
       "      <td>kinder/kind</td>\n",
       "      <td>[n, nt, pl, nom]</td>\n",
       "      <td>0.1297</td>\n",
       "    </tr>\n",
       "    <tr>\n",
       "      <th>3</th>\n",
       "      <td>en</td>\n",
       "      <td>strawberry/strawberry</td>\n",
       "      <td>[n, sg]</td>\n",
       "      <td>-0.0585</td>\n",
       "    </tr>\n",
       "    <tr>\n",
       "      <th>4</th>\n",
       "      <td>en</td>\n",
       "      <td>to/to</td>\n",
       "      <td>[pr]</td>\n",
       "      <td>0.0324</td>\n",
       "    </tr>\n",
       "  </tbody>\n",
       "</table>\n",
       "</div>"
      ],
      "text/plain": [
       "  language                 lexeme                  tags  weight\n",
       "0       es            desde/desde                  [pr]  0.1707\n",
       "1       es             como/comer  [vblex, pri, p1, sg]  0.1708\n",
       "2       de            kinder/kind      [n, nt, pl, nom]  0.1297\n",
       "3       en  strawberry/strawberry               [n, sg] -0.0585\n",
       "4       en                  to/to                  [pr]  0.0324"
      ]
     },
     "execution_count": 6,
     "metadata": {},
     "output_type": "execute_result"
    }
   ],
   "source": [
    "with open(\"halflife-regression/results/hlr.settles.acl16.learning_traces.13m.weights\") as f:\n",
    "    data = f.read().split(\"\\n\")[:-1]\n",
    "\n",
    "# First three entries are meta information\n",
    "data = data[3:]\n",
    "    \n",
    "data = list(map(process_row, data))\n",
    "df = pd.DataFrame(data, columns=(\"language\", \"lexeme\", \"tags\", \"weight\"))\n",
    "print(len(df))\n",
    "df.head()"
   ]
  },
  {
   "cell_type": "code",
   "execution_count": 7,
   "id": "e179cc8e-102b-49d1-9e52-1c58ece2cdeb",
   "metadata": {},
   "outputs": [
    {
     "data": {
      "text/plain": [
       "<AxesSubplot:>"
      ]
     },
     "execution_count": 7,
     "metadata": {},
     "output_type": "execute_result"
    },
    {
     "data": {
      "image/png": "[encoded data removed]",
      "text/plain": [
       "<Figure size 432x288 with 1 Axes>"
      ]
     },
     "metadata": {
      "needs_background": "light"
     },
     "output_type": "display_data"
    }
   ],
   "source": [
    "df.language.hist()"
   ]
  },
  {
   "cell_type": "code",
   "execution_count": 8,
   "id": "42a4cc90-3c87-4b16-88a1-bb055663a8a8",
   "metadata": {},
   "outputs": [
    {
     "data": {
      "text/plain": [
       "language\n",
       "de    0.090193\n",
       "en    0.214363\n",
       "es    0.221441\n",
       "fr    0.115161\n",
       "it    0.077891\n",
       "pt    0.074846\n",
       "Name: weight, dtype: float64"
      ]
     },
     "execution_count": 8,
     "metadata": {},
     "output_type": "execute_result"
    }
   ],
   "source": [
    "df.groupby(\"language\").weight.mean()"
   ]
  },
  {
   "cell_type": "code",
   "execution_count": 10,
   "id": "eecd8868-e073-4ca5-8f91-576192fd88a6",
   "metadata": {},
   "outputs": [
    {
     "data": {
      "text/plain": [
       "<AxesSubplot:>"
      ]
     },
     "execution_count": 10,
     "metadata": {},
     "output_type": "execute_result"
    },
    {
     "data": {
      "image/png": "[encoded data removed]",
      "text/plain": [
       "<Figure size 432x288 with 1 Axes>"
      ]
     },
     "metadata": {
      "needs_background": "light"
     },
     "output_type": "display_data"
    }
   ],
   "source": [
    "df[df.language == \"en\"].weight.hist()"
   ]
  },
  {
   "cell_type": "code",
   "execution_count": 11,
   "id": "bd359e6a-a352-4c39-afb2-8b00b43f6ea0",
   "metadata": {},
   "outputs": [
    {
     "data": {
      "text/plain": [
       "10703"
      ]
     },
     "execution_count": 11,
     "metadata": {},
     "output_type": "execute_result"
    }
   ],
   "source": [
    "df.lexeme.nunique()"
   ]
  },
  {
   "cell_type": "code",
   "execution_count": 12,
   "id": "f964824f-eb39-4b04-8af4-d3ff02e359c2",
   "metadata": {},
   "outputs": [
    {
     "name": "stdout",
     "output_type": "stream",
     "text": [
      "   19282 halflife-regression/results/hlr.settles.acl16.learning_traces.13m.weights\n"
     ]
    }
   ],
   "source": [
    "!wc -l halflife-regression/results/hlr.settles.acl16.learning_traces.13m.weights"
   ]
  },
  {
   "cell_type": "code",
   "execution_count": 13,
   "id": "f98cb5cd-cb2b-4b7d-9f68-b56bbdd03f7e",
   "metadata": {},
   "outputs": [
    {
     "name": "stdout",
     "output_type": "stream",
     "text": [
      "right\t0.0128\n",
      "wrong\t-0.1807\n",
      "bias\t7.3535\n",
      "es:desde/desde<pr>\t0.1707\n",
      "es:como/comer<vblex><pri><p1><sg>\t0.1708\n",
      "de:kinder/kind<n><nt><pl><nom>\t0.1297\n",
      "en:strawberry/strawberry<n><sg>\t-0.0585\n",
      "en:to/to<pr>\t0.0324\n",
      "en:am/be<vbser><pri><p1><sg>\t-0.0578\n",
      "en:on/on<pr>\t0.1622\n"
     ]
    }
   ],
   "source": [
    "!head halflife-regression/results/hlr.settles.acl16.learning_traces.13m.weights"
   ]
  },
  {
   "cell_type": "code",
   "execution_count": null,
   "id": "f3636676-76e3-40ec-a98d-f6904b9173a7",
   "metadata": {},
   "outputs": [],
   "source": []
  }
 ],
 "metadata": {
  "kernelspec": {
   "display_name": "Python 3",
   "language": "python",
   "name": "python3"
  },
  "language_info": {
   "codemirror_mode": {
    "name": "ipython",
    "version": 3
   },
   "file_extension": ".py",
   "mimetype": "text/x-python",
   "name": "python",
   "nbconvert_exporter": "python",
   "pygments_lexer": "ipython3",
   "version": "3.9.12"
  }
 },
 "nbformat": 4,
 "nbformat_minor": 5
}
