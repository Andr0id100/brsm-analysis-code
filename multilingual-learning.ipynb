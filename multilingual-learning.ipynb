{
 "cells": [
  {
   "cell_type": "code",
   "execution_count": null,
   "id": "9cd451ca-2812-49a9-9d31-6d147eb3daae",
   "metadata": {},
   "outputs": [],
   "source": []
  },
  {
   "cell_type": "code",
   "execution_count": 1,
   "id": "624a5a78-3449-46c7-803e-5c3f1cd4debf",
   "metadata": {},
   "outputs": [],
   "source": [
    "import pandas as pd\n",
    "from tqdm.notebook import tqdm\n",
    "import numpy as np"
   ]
  },
  {
   "cell_type": "code",
   "execution_count": 2,
   "id": "6ab58890-f01e-40a5-a112-ccc592eb4801",
   "metadata": {},
   "outputs": [],
   "source": [
    "from scipy import stats\n",
    "import scikit_posthocs as sp"
   ]
  },
  {
   "cell_type": "code",
   "execution_count": 3,
   "id": "23a77a5c-bfa9-4abd-b308-37589070a82a",
   "metadata": {},
   "outputs": [],
   "source": [
    "import matplotlib.pyplot as plt\n",
    "import seaborn as sns"
   ]
  },
  {
   "cell_type": "code",
   "execution_count": 4,
   "id": "938dc49c-9da7-471f-bcd6-d27595cf4343",
   "metadata": {},
   "outputs": [
    {
     "name": "stdout",
     "output_type": "stream",
     "text": [
      "12854226\n"
     ]
    },
    {
     "data": {
      "text/html": [
       "<div>\n",
       "<style scoped>\n",
       "    .dataframe tbody tr th:only-of-type {\n",
       "        vertical-align: middle;\n",
       "    }\n",
       "\n",
       "    .dataframe tbody tr th {\n",
       "        vertical-align: top;\n",
       "    }\n",
       "\n",
       "    .dataframe thead th {\n",
       "        text-align: right;\n",
       "    }\n",
       "</style>\n",
       "<table border=\"1\" class=\"dataframe\">\n",
       "  <thead>\n",
       "    <tr style=\"text-align: right;\">\n",
       "      <th></th>\n",
       "      <th>p_recall</th>\n",
       "      <th>timestamp</th>\n",
       "      <th>delta</th>\n",
       "      <th>user_id</th>\n",
       "      <th>learning_language</th>\n",
       "      <th>ui_language</th>\n",
       "      <th>lexeme_id</th>\n",
       "      <th>lexeme_string</th>\n",
       "      <th>history_seen</th>\n",
       "      <th>history_correct</th>\n",
       "      <th>session_seen</th>\n",
       "      <th>session_correct</th>\n",
       "    </tr>\n",
       "  </thead>\n",
       "  <tbody>\n",
       "    <tr>\n",
       "      <th>0</th>\n",
       "      <td>1.0</td>\n",
       "      <td>1362076081</td>\n",
       "      <td>27649635</td>\n",
       "      <td>u:FO</td>\n",
       "      <td>de</td>\n",
       "      <td>en</td>\n",
       "      <td>76390c1350a8dac31186187e2fe1e178</td>\n",
       "      <td>lernt/lernen&lt;vblex&gt;&lt;pri&gt;&lt;p3&gt;&lt;sg&gt;</td>\n",
       "      <td>6</td>\n",
       "      <td>4</td>\n",
       "      <td>2</td>\n",
       "      <td>2</td>\n",
       "    </tr>\n",
       "    <tr>\n",
       "      <th>1</th>\n",
       "      <td>0.5</td>\n",
       "      <td>1362076081</td>\n",
       "      <td>27649635</td>\n",
       "      <td>u:FO</td>\n",
       "      <td>de</td>\n",
       "      <td>en</td>\n",
       "      <td>7dfd7086f3671685e2cf1c1da72796d7</td>\n",
       "      <td>die/die&lt;det&gt;&lt;def&gt;&lt;f&gt;&lt;sg&gt;&lt;nom&gt;</td>\n",
       "      <td>4</td>\n",
       "      <td>4</td>\n",
       "      <td>2</td>\n",
       "      <td>1</td>\n",
       "    </tr>\n",
       "    <tr>\n",
       "      <th>2</th>\n",
       "      <td>1.0</td>\n",
       "      <td>1362076081</td>\n",
       "      <td>27649635</td>\n",
       "      <td>u:FO</td>\n",
       "      <td>de</td>\n",
       "      <td>en</td>\n",
       "      <td>35a54c25a2cda8127343f6a82e6f6b7d</td>\n",
       "      <td>mann/mann&lt;n&gt;&lt;m&gt;&lt;sg&gt;&lt;nom&gt;</td>\n",
       "      <td>5</td>\n",
       "      <td>4</td>\n",
       "      <td>1</td>\n",
       "      <td>1</td>\n",
       "    </tr>\n",
       "    <tr>\n",
       "      <th>3</th>\n",
       "      <td>0.5</td>\n",
       "      <td>1362076081</td>\n",
       "      <td>27649635</td>\n",
       "      <td>u:FO</td>\n",
       "      <td>de</td>\n",
       "      <td>en</td>\n",
       "      <td>0cf63ffe3dda158bc3dbd55682b355ae</td>\n",
       "      <td>frau/frau&lt;n&gt;&lt;f&gt;&lt;sg&gt;&lt;nom&gt;</td>\n",
       "      <td>6</td>\n",
       "      <td>5</td>\n",
       "      <td>2</td>\n",
       "      <td>1</td>\n",
       "    </tr>\n",
       "    <tr>\n",
       "      <th>4</th>\n",
       "      <td>1.0</td>\n",
       "      <td>1362076081</td>\n",
       "      <td>27649635</td>\n",
       "      <td>u:FO</td>\n",
       "      <td>de</td>\n",
       "      <td>en</td>\n",
       "      <td>84920990d78044db53c1b012f5bf9ab5</td>\n",
       "      <td>das/das&lt;det&gt;&lt;def&gt;&lt;nt&gt;&lt;sg&gt;&lt;nom&gt;</td>\n",
       "      <td>4</td>\n",
       "      <td>4</td>\n",
       "      <td>1</td>\n",
       "      <td>1</td>\n",
       "    </tr>\n",
       "  </tbody>\n",
       "</table>\n",
       "</div>"
      ],
      "text/plain": [
       "   p_recall   timestamp     delta user_id learning_language ui_language  \\\n",
       "0       1.0  1362076081  27649635    u:FO                de          en   \n",
       "1       0.5  1362076081  27649635    u:FO                de          en   \n",
       "2       1.0  1362076081  27649635    u:FO                de          en   \n",
       "3       0.5  1362076081  27649635    u:FO                de          en   \n",
       "4       1.0  1362076081  27649635    u:FO                de          en   \n",
       "\n",
       "                          lexeme_id                     lexeme_string  \\\n",
       "0  76390c1350a8dac31186187e2fe1e178  lernt/lernen<vblex><pri><p3><sg>   \n",
       "1  7dfd7086f3671685e2cf1c1da72796d7     die/die<det><def><f><sg><nom>   \n",
       "2  35a54c25a2cda8127343f6a82e6f6b7d          mann/mann<n><m><sg><nom>   \n",
       "3  0cf63ffe3dda158bc3dbd55682b355ae          frau/frau<n><f><sg><nom>   \n",
       "4  84920990d78044db53c1b012f5bf9ab5    das/das<det><def><nt><sg><nom>   \n",
       "\n",
       "   history_seen  history_correct  session_seen  session_correct  \n",
       "0             6                4             2                2  \n",
       "1             4                4             2                1  \n",
       "2             5                4             1                1  \n",
       "3             6                5             2                1  \n",
       "4             4                4             1                1  "
      ]
     },
     "execution_count": 4,
     "metadata": {},
     "output_type": "execute_result"
    }
   ],
   "source": [
    "df = pd.read_csv(\"settles.acl16.learning_traces.13m.csv\")\n",
    "print(len(df))\n",
    "df.head()"
   ]
  },
  {
   "cell_type": "markdown",
   "id": "af363d70-c13a-4ac2-945b-ea6219f4f14c",
   "metadata": {},
   "source": [
    "# Q2: Difference between groups of users learning just single language and more than one langauges"
   ]
  },
  {
   "cell_type": "code",
   "execution_count": 5,
   "id": "6d2120d9-bda1-4a6c-a632-c5d051470dbb",
   "metadata": {},
   "outputs": [],
   "source": [
    "user_grouped = list(df.groupby(\"user_id\"))"
   ]
  },
  {
   "cell_type": "code",
   "execution_count": 6,
   "id": "91744491-75a9-48b0-8aae-fe1ee03e75aa",
   "metadata": {},
   "outputs": [
    {
     "data": {
      "application/vnd.jupyter.widget-view+json": {
       "model_id": "064c2d2cddd64af0a7262aaf10957e91",
       "version_major": 2,
       "version_minor": 0
      },
      "text/plain": [
       "  0%|          | 0/115222 [00:00<?, ?it/s]"
      ]
     },
     "metadata": {},
     "output_type": "display_data"
    }
   ],
   "source": [
    "learning_language_pairs = set()\n",
    "for user in tqdm(user_grouped):\n",
    "    learning_language_pairs.add(tuple(user[1].learning_language.unique().tolist()))"
   ]
  },
  {
   "cell_type": "code",
   "execution_count": 7,
   "id": "86e6bd32-b3bb-4840-8583-69b312460674",
   "metadata": {},
   "outputs": [
    {
     "data": {
      "application/vnd.jupyter.widget-view+json": {
       "model_id": "29a3cf6c379c45b695f09a1d5bc9ac50",
       "version_major": 2,
       "version_minor": 0
      },
      "text/plain": [
       "  0%|          | 0/115222 [00:00<?, ?it/s]"
      ]
     },
     "metadata": {},
     "output_type": "display_data"
    }
   ],
   "source": [
    "learning_language_pairs_stats = {x:0 for x in learning_language_pairs}\n",
    "for user in tqdm(user_grouped):\n",
    "    pair = tuple(user[1].learning_language.unique().tolist())\n",
    "    learning_language_pairs_stats[pair] += 1"
   ]
  },
  {
   "cell_type": "code",
   "execution_count": 8,
   "id": "523fd79b-e29c-4888-bff8-a642031d37b7",
   "metadata": {},
   "outputs": [],
   "source": [
    "# Most combinations are very rare, only have one or two users\n",
    "learning_language_pairs = set(filter(lambda x: learning_language_pairs_stats[x] >= 100, learning_language_pairs))"
   ]
  },
  {
   "cell_type": "code",
   "execution_count": 9,
   "id": "ce61a711-9946-425d-ba4a-df5fefaca5d3",
   "metadata": {},
   "outputs": [
    {
     "data": {
      "text/plain": [
       "{('de',),\n",
       " ('de', 'es'),\n",
       " ('de', 'fr'),\n",
       " ('en',),\n",
       " ('es',),\n",
       " ('es', 'de'),\n",
       " ('es', 'fr'),\n",
       " ('fr',),\n",
       " ('fr', 'de'),\n",
       " ('fr', 'es'),\n",
       " ('it',),\n",
       " ('pt',)}"
      ]
     },
     "execution_count": 9,
     "metadata": {},
     "output_type": "execute_result"
    }
   ],
   "source": [
    "learning_language_pairs"
   ]
  },
  {
   "cell_type": "code",
   "execution_count": 10,
   "id": "ebe1d8d6-5ee8-41c4-8214-3a5e9bace28b",
   "metadata": {},
   "outputs": [],
   "source": [
    "user_grouped = list(df.groupby(\"user_id\"))"
   ]
  },
  {
   "cell_type": "code",
   "execution_count": 11,
   "id": "b35a70f9-881a-417e-badb-84589c93b1d1",
   "metadata": {},
   "outputs": [
    {
     "data": {
      "application/vnd.jupyter.widget-view+json": {
       "model_id": "f83bd52cbab24d158df314efa7b10b38",
       "version_major": 2,
       "version_minor": 0
      },
      "text/plain": [
       "  0%|          | 0/115222 [00:00<?, ?it/s]"
      ]
     },
     "metadata": {},
     "output_type": "display_data"
    }
   ],
   "source": [
    "data = {x:[] for x in learning_language_pairs}\n",
    "\n",
    "\n",
    "for user in tqdm(user_grouped):\n",
    "    lexeme_grouped = user[1].groupby(\"lexeme_id\")\n",
    "    pair = tuple(user[1].learning_language.unique().tolist())\n",
    "    \n",
    "    if pair not in learning_language_pairs:\n",
    "        continue\n",
    "\n",
    "    user_performance = []\n",
    "    for lexeme in lexeme_grouped:\n",
    "        last_entry = lexeme[1].iloc[-1]\n",
    "        user_performance.append(last_entry.history_correct/last_entry.history_seen)\n",
    "    user_performance_aggregate = np.mean(user_performance)\n",
    "    data[pair].append(user_performance_aggregate)"
   ]
  },
  {
   "cell_type": "code",
   "execution_count": 12,
   "id": "51b788bd-34da-487c-92a5-a5a7bcb821ec",
   "metadata": {},
   "outputs": [
    {
     "data": {
      "text/plain": [
       "LeveneResult(statistic=77.76656711570136, pvalue=1.1228786547780472e-175)"
      ]
     },
     "execution_count": 12,
     "metadata": {},
     "output_type": "execute_result"
    }
   ],
   "source": [
    "stats.levene(*[data[x] for x in data])"
   ]
  },
  {
   "cell_type": "code",
   "execution_count": 13,
   "id": "d031c036-ccd4-4428-88c6-ad2fdf3eaefc",
   "metadata": {},
   "outputs": [
    {
     "data": {
      "text/plain": [
       "KruskalResult(statistic=906.9016887870584, pvalue=2.0354078062826345e-187)"
      ]
     },
     "execution_count": 13,
     "metadata": {},
     "output_type": "execute_result"
    }
   ],
   "source": [
    "stats.kruskal(*[data[x] for x in data])"
   ]
  },
  {
   "cell_type": "code",
   "execution_count": 30,
   "id": "399c0f7a-d579-4ebe-af26-9ae65ac91b97",
   "metadata": {},
   "outputs": [],
   "source": [
    "labels =  [(\"de\", \"es\"), (\"de\", ), (\"es\", )]\n",
    "# labels =  [(\"de\", \"fr\"), (\"de\", ), (\"fr\", )]\n",
    "# labels =  [(\"es\", \"fr\"), (\"es\", ), (\"fr\", )]\n"
   ]
  },
  {
   "cell_type": "code",
   "execution_count": 31,
   "id": "20ff6d91-9614-4fb3-a446-b7ddfc0811ce",
   "metadata": {},
   "outputs": [
    {
     "data": {
      "text/plain": [
       "LeveneResult(statistic=10.278383010781987, pvalue=3.44532673265469e-05)"
      ]
     },
     "execution_count": 31,
     "metadata": {},
     "output_type": "execute_result"
    }
   ],
   "source": [
    "stats.levene(*[data[x] for x in labels])"
   ]
  },
  {
   "cell_type": "code",
   "execution_count": 32,
   "id": "76f9b24a-2152-4df8-9f49-682168f6169f",
   "metadata": {},
   "outputs": [
    {
     "data": {
      "text/plain": [
       "KruskalResult(statistic=44.03360966582194, pvalue=2.7429832268093247e-10)"
      ]
     },
     "execution_count": 32,
     "metadata": {},
     "output_type": "execute_result"
    }
   ],
   "source": [
    "stats.kruskal(*[data[x] for x in labels])"
   ]
  },
  {
   "cell_type": "code",
   "execution_count": 33,
   "id": "f891b504-c015-486a-8e35-84222fa8630c",
   "metadata": {},
   "outputs": [
    {
     "data": {
      "text/html": [
       "<div>\n",
       "<style scoped>\n",
       "    .dataframe tbody tr th:only-of-type {\n",
       "        vertical-align: middle;\n",
       "    }\n",
       "\n",
       "    .dataframe tbody tr th {\n",
       "        vertical-align: top;\n",
       "    }\n",
       "\n",
       "    .dataframe thead th {\n",
       "        text-align: right;\n",
       "    }\n",
       "</style>\n",
       "<table border=\"1\" class=\"dataframe\">\n",
       "  <thead>\n",
       "    <tr style=\"text-align: right;\">\n",
       "      <th></th>\n",
       "      <th>1</th>\n",
       "      <th>2</th>\n",
       "      <th>3</th>\n",
       "    </tr>\n",
       "  </thead>\n",
       "  <tbody>\n",
       "    <tr>\n",
       "      <th>1</th>\n",
       "      <td>1.000000</td>\n",
       "      <td>9.757054e-01</td>\n",
       "      <td>1.239939e-01</td>\n",
       "    </tr>\n",
       "    <tr>\n",
       "      <th>2</th>\n",
       "      <td>0.975705</td>\n",
       "      <td>1.000000e+00</td>\n",
       "      <td>4.490072e-10</td>\n",
       "    </tr>\n",
       "    <tr>\n",
       "      <th>3</th>\n",
       "      <td>0.123994</td>\n",
       "      <td>4.490072e-10</td>\n",
       "      <td>1.000000e+00</td>\n",
       "    </tr>\n",
       "  </tbody>\n",
       "</table>\n",
       "</div>"
      ],
      "text/plain": [
       "          1             2             3\n",
       "1  1.000000  9.757054e-01  1.239939e-01\n",
       "2  0.975705  1.000000e+00  4.490072e-10\n",
       "3  0.123994  4.490072e-10  1.000000e+00"
      ]
     },
     "execution_count": 33,
     "metadata": {},
     "output_type": "execute_result"
    }
   ],
   "source": [
    "sp.posthoc_mannwhitney([data[x] for x in labels], p_adjust = 'bonferroni')"
   ]
  },
  {
   "cell_type": "code",
   "execution_count": 28,
   "id": "b662d92d-c0fa-4af3-8188-1665ea1a2149",
   "metadata": {},
   "outputs": [
    {
     "data": {
      "image/png": "[encoded data removed]",
      "text/plain": [
       "<Figure size 360x360 with 2 Axes>"
      ]
     },
     "metadata": {},
     "output_type": "display_data"
    }
   ],
   "source": [
    "# ax = sns.heatmap((np.array(sp.posthoc_dunn([data[x] for x in labels], p_adjust = 'bonferroni')) <= 0.05))\n",
    "ax = sns.heatmap((np.array(sp.posthoc_dunn([data[x] for x in labels], p_adjust = 'bonferroni'))))\n",
    "\n",
    "ax.set_xticklabels([str(x) for x in labels])\n",
    "ax.set_yticklabels([str(x) for x in labels])\n",
    "\n",
    "ax.set_title(\"Statistical Significance\")\n",
    "\n",
    "sns.set(rc={'figure.figsize':(5,5)})\n",
    "plt.xticks(rotation=45)\n",
    "plt.yticks(rotation=45);"
   ]
  },
  {
   "cell_type": "code",
   "execution_count": 29,
   "id": "adabbf99-b666-41a3-a48d-f6af12e19bb8",
   "metadata": {},
   "outputs": [
    {
     "data": {
      "text/plain": [
       "array([[1.00000000e+00, 1.05230486e-05, 1.19673370e-13],\n",
       "       [1.05230486e-05, 1.00000000e+00, 3.03944938e-65],\n",
       "       [1.19673370e-13, 3.03944938e-65, 1.00000000e+00]])"
      ]
     },
     "execution_count": 29,
     "metadata": {},
     "output_type": "execute_result"
    }
   ],
   "source": [
    "(np.array(sp.posthoc_dunn([data[x] for x in labels], p_adjust = 'bonferroni')))"
   ]
  },
  {
   "cell_type": "code",
   "execution_count": 129,
   "id": "d06b19f3-a4f2-41cb-a2c5-4bae062bef36",
   "metadata": {},
   "outputs": [
    {
     "data": {
      "image/png": "[encoded data removed]",
      "text/plain": [
       "<Figure size 720x432 with 3 Axes>"
      ]
     },
     "metadata": {},
     "output_type": "display_data"
    }
   ],
   "source": [
    "fig, axs = plt.subplots(1, 3, figsize=(10, 6))\n",
    "\n",
    "for i in range(len(axs)):\n",
    "    axs[i].boxplot(data[labels[i]])\n",
    "    axs[i].set_title(str(labels[i]))\n",
    "    axs[i].set_ylabel(\"User Performance\")"
   ]
  },
  {
   "cell_type": "code",
   "execution_count": 130,
   "id": "01e99b37-a5cb-454d-a263-c434d8871162",
   "metadata": {},
   "outputs": [
    {
     "name": "stdout",
     "output_type": "stream",
     "text": [
      "(0, ('es', 'de'))\n",
      "(1, ('pt',))\n",
      "(2, ('es',))\n",
      "(3, ('en',))\n",
      "(4, ('fr',))\n",
      "(5, ('es', 'fr'))\n",
      "(6, ('fr', 'de'))\n",
      "(7, ('de', 'es'))\n",
      "(8, ('fr', 'es'))\n",
      "(9, ('de', 'fr'))\n",
      "(10, ('it',))\n",
      "(11, ('de',))\n"
     ]
    }
   ],
   "source": [
    "print(*list(enumerate(data.keys())), sep='\\n')"
   ]
  },
  {
   "cell_type": "code",
   "execution_count": null,
   "id": "fb210ed9-35e5-49da-b4bd-791916b45a64",
   "metadata": {},
   "outputs": [],
   "source": []
  },
  {
   "cell_type": "code",
   "execution_count": null,
   "id": "fd7f4351-f4df-4eaf-92a5-bb15195e64af",
   "metadata": {},
   "outputs": [],
   "source": []
  },
  {
   "cell_type": "code",
   "execution_count": null,
   "id": "c5b5c8de-0c83-40fa-bd52-7fa815f5253a",
   "metadata": {},
   "outputs": [],
   "source": []
  }
 ],
 "metadata": {
  "kernelspec": {
   "display_name": "Python 3",
   "language": "python",
   "name": "python3"
  },
  "language_info": {
   "codemirror_mode": {
    "name": "ipython",
    "version": 3
   },
   "file_extension": ".py",
   "mimetype": "text/x-python",
   "name": "python",
   "nbconvert_exporter": "python",
   "pygments_lexer": "ipython3",
   "version": "3.9.12"
  }
 },
 "nbformat": 4,
 "nbformat_minor": 5
}
